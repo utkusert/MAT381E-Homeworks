{
 "cells": [
  {
   "cell_type": "markdown",
   "id": "79f6d4d6-18b4-4e6f-b09c-d3df0105db6a",
   "metadata": {},
   "source": [
    "# Homework #1\n",
    "\n",
    "Remember: You must ingest the data to your notebooks directly from the data server. Also, don't write the same code with modifications to do similar things over and over again. Write a function.\n",
    "\n",
    "## Question #1\n",
    "\n",
    "For this question use the data [at this link](https://data.ibb.gov.tr/dataset/hourly-public-transport-data-set).\n",
    "\n",
    "1. Calculate total hourly uses of different modes of transports (RAY, KARAYOLU, DENİZ) as pandas data frames for January 2021 and May 2021. Do you see any differences in usage patterns? Explain.\n",
    "2. Calculate total hourly uses of different transfer types (AKTARMA, NORMAL) as pandas data frames for June 2020 and in September 2020.\n",
    "3. Plot the results for step #1 and #2.\n",
    "4. Calculate the daily totals for each line, and find out the busiest lines in each day of April 2020\n",
    "5. Calculate the daily totals of passenger numbers and passage numbers, then calculate the daily ratios of passage numbers by passenger numbers for August 2020. What do the numbers tell you?\n"
   ]
  },
  {
   "cell_type": "markdown",
   "id": "f0557681",
   "metadata": {},
   "source": [
    "Question 1.1\n"
   ]
  },
  {
   "cell_type": "code",
   "execution_count": null,
   "id": "50b368f9-d760-416c-b3b6-db8e6f9d61a6",
   "metadata": {},
   "outputs": [],
   "source": [
    "\n",
    "import pandas as pd \n",
    "from urllib.request import urlopen\n",
    "from xmltodict import parse\n",
    "from matplotlib import pyplot as plt\n",
    "from scipy import stats\n",
    "\n",
    "\n",
    "column_name = \"NUMBER_OF_PASSENGER\"\n",
    "mayis_link = \"https://data.ibb.gov.tr/dataset/a6855ce7-4092-40a5-82b5-34cf3c7e36e3/resource/42b4a830-fee6-4765-9daf-3f3884f09b4b/download/hourly_transportation_202105.csv\"\n",
    "ocak_link = \"https://data.ibb.gov.tr/dataset/a6855ce7-4092-40a5-82b5-34cf3c7e36e3/resource/004994f5-3a50-4721-8787-41d4940bdaee/download/hourly_transportation_202101.csv\"\n",
    "\n",
    "def hourly_passengers(url_csv,column_name,type,sinif) :\n",
    "    df = pd.read_csv(url_csv)\n",
    "    data = pd.DataFrame(df)\n",
    "    result_total = data[data[sinif] == type]\n",
    "    result_total['DATE_TIME'] = pd.to_datetime(result_total['DATE_TIME'])\n",
    "    df1 = result_total.resample('60min', on = 'DATE_TIME').sum()\n",
    "    return df1[column_name]\n",
    "\n",
    "Ocak_Ray = hourly_passengers(ocak_link,column_name,\"RAY\",\"TRANSPORT_TYPE_DESC\")\n",
    "print(f\"Number of passengers using the rail line in January: {Ocak_Ray}\")\n",
    "\n",
    "Mayis_Ray = hourly_passengers(mayis_link,column_name,\"RAY\",\"TRANSPORT_TYPE_DESC\")\n",
    "print(f\"Number of passengers using the rail line in May: {Mayis_Ray}\")\n",
    "\n",
    "Ocak_deniz = hourly_passengers(ocak_link,column_name,\"DENİZ\",\"TRANSPORT_TYPE_DESC\")\n",
    "print(f\"Number of passengers using the seaway line in January: {Ocak_deniz}\")\n",
    "\n",
    "Mayis_deniz = hourly_passengers(mayis_link,column_name,\"DENİZ\",\"TRANSPORT_TYPE_DESC\")\n",
    "print(f\"Number of passengers using the seaway line in May: {Mayis_deniz}\")\n",
    "\n",
    "Ocak_karayolu = hourly_passengers(ocak_link,column_name,\"KARAYOLU\",\"TRANSPORT_TYPE_DESC\")\n",
    "print(f\"Number of passengers using the highway line in January: {Ocak_karayolu}\")\n",
    "\n",
    "Mayis_karayolu = hourly_passengers(mayis_link,column_name,\"KARAYOLU\",\"TRANSPORT_TYPE_DESC\")\n",
    "print(f\"Number of passengers using the highway line in May: {Mayis_karayolu}\")\n",
    "                                 "
   ]
  },
  {
   "cell_type": "markdown",
   "id": "bf47945f",
   "metadata": {},
   "source": [
    "It seems to be the most used road and rail line, which may be due to the frequency of the trip."
   ]
  },
  {
   "cell_type": "markdown",
   "id": "5f7e9495",
   "metadata": {},
   "source": [
    "Question 1.2"
   ]
  },
  {
   "cell_type": "code",
   "execution_count": null,
   "id": "4eb84ef2",
   "metadata": {},
   "outputs": [],
   "source": [
    "haziran_link = \"https://data.ibb.gov.tr/dataset/a6855ce7-4092-40a5-82b5-34cf3c7e36e3/resource/4f1c434d-bd1f-4937-b88f-6e2df1a85dc5/download/hourly_transportation_202006.csv\"\n",
    "eylül_link = \"https://data.ibb.gov.tr/dataset/a6855ce7-4092-40a5-82b5-34cf3c7e36e3/resource/5b3b12b7-575d-4b55-b497-62e3b544edb0/download/hourly_transportation_202009.csv\"\n",
    "\n",
    "haziran_aktarma = hourly_passengers(haziran_link,column_name,\"AKTARMA\",\"TRANSFER_TYPE\")\n",
    "print(f\"Number of passengers using the aktarma in July: {haziran_aktarma}\")\n",
    "\n",
    "haziran_normal = hourly_passengers(haziran_link,column_name,\"NORMAL\",\"TRANSFER_TYPE\")\n",
    "print(f\"Number of passengers using the normal in July: {haziran_normal}\")\n",
    "\n",
    "eylül_aktarma = hourly_passengers(eylül_link,column_name,\"AKTARMA\",\"TRANSFER_TYPE\")\n",
    "print(f\"Number of passengers using the aktarma in September: {eylül_aktarma}\")\n",
    "\n",
    "eylül_normal = hourly_passengers(eylül_link,column_name,\"AKTARMA\",\"TRANSFER_TYPE\")\n",
    "print(f\"Number of passengers using the normal in September: {eylül_normal}\")\n"
   ]
  },
  {
   "cell_type": "markdown",
   "id": "3cf6be82",
   "metadata": {},
   "source": [
    "Question 1.3"
   ]
  },
  {
   "cell_type": "code",
   "execution_count": null,
   "id": "33542080",
   "metadata": {},
   "outputs": [],
   "source": [
    "None"
   ]
  },
  {
   "cell_type": "markdown",
   "id": "5736159e",
   "metadata": {},
   "source": [
    "Question 1.4"
   ]
  },
  {
   "cell_type": "code",
   "execution_count": null,
   "id": "e2474920",
   "metadata": {},
   "outputs": [],
   "source": [
    "nisan_link = \"https://data.ibb.gov.tr/dataset/a6855ce7-4092-40a5-82b5-34cf3c7e36e3/resource/75e25417-36df-4822-8a18-578f0f7a584a/download/hourly_transportation_202004.csv\"\n",
    "\n",
    "def daily_passengers(url_csv,column_name,type) :\n",
    "    df1 = pd.read_csv(url_csv)\n",
    "    data1 = pd.DataFrame(df1)\n",
    "    result_total1 = data1[data1[\"TRANSPORT_TYPE_DESC\"] == type]\n",
    "    result_total1['DATE_TIME'] = pd.to_datetime(result_total1['DATE_TIME'])\n",
    "    df2 = result_total1.resample('D', on = 'DATE_TIME').sum()\n",
    "    return df2[column_name]\n",
    "\n",
    "ray_daily_nisan = daily_passengers(nisan_link,column_name,\"RAY\")\n",
    "print(f\"Number of passengers using the railway line in April: {ray_daily_nisan}\")\n",
    "\n",
    "deniz_daily_nisan = daily_passengers(nisan_link,column_name,\"DENİZ\")\n",
    "print(f\"Number of passengers using the seaway line in April: {deniz_daily_nisan}\")\n",
    "\n",
    "karayolu_daily_nisan = daily_passengers(nisan_link,column_name,\"KARAYOLU\")\n",
    "print(f\"Number of passengers using the highway line in April: {karayolu_daily_nisan}\")"
   ]
  },
  {
   "cell_type": "markdown",
   "id": "59ca9a23",
   "metadata": {},
   "source": [
    "Question 1.5"
   ]
  },
  {
   "cell_type": "code",
   "execution_count": null,
   "id": "c15e4546",
   "metadata": {},
   "outputs": [],
   "source": [
    "agustus_ayi = \"https://data.ibb.gov.tr/dataset/a6855ce7-4092-40a5-82b5-34cf3c7e36e3/resource/a195a42f-727a-4f1e-ad55-471306788c99/download/hourly_transportation_202008.csv\"\n",
    "\n",
    "def daily_passengers1(url_csv,veri) :\n",
    "    df2 = pd.read_csv(url_csv)\n",
    "    data2 = pd.DataFrame(df2)\n",
    "    data2['DATE_TIME'] = pd.to_datetime(data2['DATE_TIME'])\n",
    "    df3 = data2.resample('D', on = 'DATE_TIME').sum()\n",
    "    return df3[veri]\n",
    "\n",
    "agustos_passenger = daily_passengers1(agustus_ayi,\"NUMBER_OF_PASSENGER\")\n",
    "print(f\"Total passenger on August : {agustos_passenger}\")\n",
    "\n",
    "agustos_passage = daily_passengers1(agustus_ayi,\"NUMBER_OF_PASSAGE\")\n",
    "print(f\"Total passage on August : {agustos_passage}\")\n",
    "\n",
    "for i in range(31) :\n",
    "    ratio = agustos_passenger[i] / agustos_passage[i]\n",
    "    print(f\" {i+1}.gün yolcu/yol oranı : {ratio}\")"
   ]
  },
  {
   "cell_type": "markdown",
   "id": "cc8d8990",
   "metadata": {},
   "source": [
    "When we look at the data, the passenger/passage ratio seems to be between 0.9 and 0.8, that is, around 1."
   ]
  },
  {
   "cell_type": "markdown",
   "id": "7906e0a5-fbb7-4bf0-b77d-522aee1967c5",
   "metadata": {},
   "source": [
    "## Question #2\n",
    "\n",
    "For this question use the data [at this link](https://alaska.usgs.gov/products/data.php?dataid=522). This dataset contains isotope values of muscle tissue from fish collected in the nearshore Beaufort Sea, Alaska in summers 2017-2019.\n",
    "\n",
    "1. Calculate the average lengths of fish sampled at each location in the years 2017, 2018 and 2019.\n",
    "2. Can you statistically observe any differences in lengths between the years 2018 and 2019?\n",
    "3. Calculate the average concentration of C13 and N15 for the samples collected at each location in the years 2017, 2018 and 2019.\n",
    "4. Can you statistically observe any differences in C13 and N15 concentrations between the years 2018 and 2019?\n",
    "5. Can we do the same comparisons for the year 2017 against 2018 or 2019? Why doesn't this work? What should we do to make these comparisons to work?"
   ]
  },
  {
   "cell_type": "markdown",
   "id": "5dfefe3b",
   "metadata": {},
   "source": [
    "Question 2.1"
   ]
  },
  {
   "cell_type": "code",
   "execution_count": null,
   "id": "c87abeec",
   "metadata": {},
   "outputs": [],
   "source": [
    "import zipfile\n",
    "import shutil\n",
    "import pandas as pd \n",
    "from urllib.request import urlopen\n",
    "zip_link = 'https://alaska.usgs.gov/data/aquaticEcology/fish/fish_stableIsotopes_beaufort_stanek/fish_stableIsotopes_beaufort_stanek.zip'\n",
    "zip_file = 'fish_stableIsotopes_beaufort_stanek.zip'\n",
    "file_csv = 'fish_stableIsotopes_beaufort_stanek.csv'\n",
    "def location_mean(bilgi,loc):\n",
    "    with urlopen(zip_link) as response, open(zip_file, 'wb') as outlet_file:\n",
    "        shutil.copyfileobj(response,outlet_file)\n",
    "    with zipfile.ZipFile(zip_file) as zl:\n",
    "        zl.extract(file_csv)\n",
    "    data4 = pd.read_csv(file_csv) \n",
    "    data5 = data4[data4[bilgi] == loc]\n",
    "    data5['Date'] = pd.to_datetime(data5['Date'])\n",
    "    df4 = data5.resample('Y', on = 'Date').mean()\n",
    "    return df4.groupby('Date').mean()\n",
    "\n",
    "jago_lagoon = location_mean(\"Location\",\"Jago Lagoon\")\n",
    "print(f\"Jago Lagoon's mean : {jago_lagoon}\")\n",
    "kaktovik_lagoon = location_mean(\"Location\",\"Kaktovik Lagoon\")\n",
    "print(f\"Kaktovik Lagoon's mean : {kaktovik_lagoon}\")\n",
    "stefansson_sound = location_mean(\"Location\",\"Stefansson Sound\")\n",
    "print(f\"Stefansson Sound's mean : {stefansson_sound}\")\n",
    "simpson_lagoon = location_mean(\"Location\",\"Simpson Lagoon\")\n",
    "print(f\"Simpson Lagoon's mean : {simpson_lagoon}\")\n",
    "\n",
    "\n",
    "\n"
   ]
  },
  {
   "cell_type": "markdown",
   "id": "56f68b0b",
   "metadata": {},
   "source": [
    "Question 2.3"
   ]
  },
  {
   "cell_type": "code",
   "execution_count": null,
   "id": "7a4289cb",
   "metadata": {},
   "outputs": [],
   "source": [
    "jago_lagoon = location_mean(\"Location\",\"Jago Lagoon\")\n",
    "print(f\"Jago Lagoon's mean : {jago_lagoon}\")\n",
    "kaktovik_lagoon = location_mean(\"Location\",\"Kaktovik Lagoon\")\n",
    "print(f\"Kaktovik Lagoon's mean : {kaktovik_lagoon}\")\n",
    "stefansson_sound = location_mean(\"Location\",\"Stefansson Sound\")\n",
    "print(f\"Stefansson Sound's mean : {stefansson_sound}\")\n",
    "simpson_lagoon = location_mean(\"Location\",\"Simpson Lagoon\")\n",
    "print(f\"Simpson Lagoon's mean : {simpson_lagoon}\")\n"
   ]
  }
 ],
 "metadata": {
  "kernelspec": {
   "display_name": "Python 3",
   "language": "python",
   "name": "python3"
  },
  "language_info": {
   "codemirror_mode": {
    "name": "ipython",
    "version": 3
   },
   "file_extension": ".py",
   "mimetype": "text/x-python",
   "name": "python",
   "nbconvert_exporter": "python",
   "pygments_lexer": "ipython3",
   "version": "3.10.7"
  }
 },
 "nbformat": 4,
 "nbformat_minor": 5
}
